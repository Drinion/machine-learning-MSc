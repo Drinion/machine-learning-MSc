{
 "cells": [
  {
   "cell_type": "markdown",
   "metadata": {
    "collapsed": true
   },
   "source": [
    "# Lab 2 - Generalization\n",
    "\n",
    "In this lab session, we will explore why generalization is crucial when designing our algorithms. We will also provide a quick introduction to the popular Scikit-Learn (Sklearn) library, which offers a wide range of implemented machine learning algorithms.\n",
    "\n",
    "Specifically, we will cover the following topics:\n",
    "\n",
    "1. load some dataset from the UCI machine learning Repository\n",
    "2. Data preprocessing using SKlearn\n",
    "3. Use the knn algorithm from SKlearn\n",
    "4. Generalization and Hyperparameter Tuning\n",
    "    - Train/Test Split\n",
    "    - Cross-Validation\n",
    "    - Bootstrapping (Assignment)\n",
    "\n",
    "Material for the lab:  \n",
    "1. Chapter 5 of the **\"An Introduction to Statistical Learning\"** book.\n",
    "\n",
    "For additional information about the lab's structure, please refer to the course's [lab description file](https://github.com/olethrosdc/machine-learning-MSc/blob/main/lab.md).\n"
   ]
  },
  {
   "cell_type": "markdown",
   "metadata": {},
   "source": [
    "# Import python libraries"
   ]
  },
  {
   "cell_type": "code",
   "execution_count": 33,
   "metadata": {},
   "outputs": [],
   "source": [
    "import numpy as np\n",
    "import matplotlib.pyplot as plt\n",
    "import pandas as pd\n",
    "import sklearn"
   ]
  },
  {
   "cell_type": "markdown",
   "metadata": {},
   "source": [
    "# Load Dataset\n",
    "\n",
    "![uci ml repo](./figures/UCI_repo.png)\n",
    "\n",
    "The [**UCI machine learning repository**](https://archive.ics.uci.edu) is a valuable resource in the field of machine learning and data mining. It is maintained by the University of California, Irvine (UCI), and provides a vast collection of datasets that are frequently used for research, experimentation, and education in the machine learning community.\n",
    "\n",
    "\n",
    "We will use the wine dataset, with our goal being to classify wines into three categories based on certain attributes. \n",
    "\n",
    "\n",
    "You can find more information about the dataset on the following [webpage](https://archive.ics.uci.edu/dataset/53/iris)"
   ]
  },
  {
   "cell_type": "code",
   "execution_count": 34,
   "metadata": {},
   "outputs": [],
   "source": [
    "features =  ['Sepal_Length','Sepal_Width','Petal_Length','Petal_Width']\n",
    "\n",
    "target = 'Class'\n",
    "\n",
    "### load some data with pandas\n",
    "        \n",
    "csv_url = 'https://archive.ics.uci.edu/ml/machine-learning-databases/iris/iris.data'        \n",
    "dataset = pd.read_csv(csv_url, names= features + [target])\n",
    "data_x = dataset[features]\n",
    "data_y = dataset[[target]]"
   ]
  },
  {
   "cell_type": "markdown",
   "metadata": {},
   "source": [
    "### lets have a quick look on our dataset\n",
    "Our dataset consist of a set of different features together with a target category for classification"
   ]
  },
  {
   "cell_type": "code",
   "execution_count": 36,
   "metadata": {},
   "outputs": [
    {
     "data": {
      "text/html": [
       "<div>\n",
       "<style scoped>\n",
       "    .dataframe tbody tr th:only-of-type {\n",
       "        vertical-align: middle;\n",
       "    }\n",
       "\n",
       "    .dataframe tbody tr th {\n",
       "        vertical-align: top;\n",
       "    }\n",
       "\n",
       "    .dataframe thead th {\n",
       "        text-align: right;\n",
       "    }\n",
       "</style>\n",
       "<table border=\"1\" class=\"dataframe\">\n",
       "  <thead>\n",
       "    <tr style=\"text-align: right;\">\n",
       "      <th></th>\n",
       "      <th>Sepal_Length</th>\n",
       "      <th>Sepal_Width</th>\n",
       "      <th>Petal_Length</th>\n",
       "      <th>Petal_Width</th>\n",
       "      <th>Class</th>\n",
       "    </tr>\n",
       "  </thead>\n",
       "  <tbody>\n",
       "    <tr>\n",
       "      <th>0</th>\n",
       "      <td>5.1</td>\n",
       "      <td>3.5</td>\n",
       "      <td>1.4</td>\n",
       "      <td>0.2</td>\n",
       "      <td>Iris-setosa</td>\n",
       "    </tr>\n",
       "    <tr>\n",
       "      <th>1</th>\n",
       "      <td>4.9</td>\n",
       "      <td>3.0</td>\n",
       "      <td>1.4</td>\n",
       "      <td>0.2</td>\n",
       "      <td>Iris-setosa</td>\n",
       "    </tr>\n",
       "    <tr>\n",
       "      <th>2</th>\n",
       "      <td>4.7</td>\n",
       "      <td>3.2</td>\n",
       "      <td>1.3</td>\n",
       "      <td>0.2</td>\n",
       "      <td>Iris-setosa</td>\n",
       "    </tr>\n",
       "    <tr>\n",
       "      <th>3</th>\n",
       "      <td>4.6</td>\n",
       "      <td>3.1</td>\n",
       "      <td>1.5</td>\n",
       "      <td>0.2</td>\n",
       "      <td>Iris-setosa</td>\n",
       "    </tr>\n",
       "    <tr>\n",
       "      <th>4</th>\n",
       "      <td>5.0</td>\n",
       "      <td>3.6</td>\n",
       "      <td>1.4</td>\n",
       "      <td>0.2</td>\n",
       "      <td>Iris-setosa</td>\n",
       "    </tr>\n",
       "    <tr>\n",
       "      <th>...</th>\n",
       "      <td>...</td>\n",
       "      <td>...</td>\n",
       "      <td>...</td>\n",
       "      <td>...</td>\n",
       "      <td>...</td>\n",
       "    </tr>\n",
       "    <tr>\n",
       "      <th>145</th>\n",
       "      <td>6.7</td>\n",
       "      <td>3.0</td>\n",
       "      <td>5.2</td>\n",
       "      <td>2.3</td>\n",
       "      <td>Iris-virginica</td>\n",
       "    </tr>\n",
       "    <tr>\n",
       "      <th>146</th>\n",
       "      <td>6.3</td>\n",
       "      <td>2.5</td>\n",
       "      <td>5.0</td>\n",
       "      <td>1.9</td>\n",
       "      <td>Iris-virginica</td>\n",
       "    </tr>\n",
       "    <tr>\n",
       "      <th>147</th>\n",
       "      <td>6.5</td>\n",
       "      <td>3.0</td>\n",
       "      <td>5.2</td>\n",
       "      <td>2.0</td>\n",
       "      <td>Iris-virginica</td>\n",
       "    </tr>\n",
       "    <tr>\n",
       "      <th>148</th>\n",
       "      <td>6.2</td>\n",
       "      <td>3.4</td>\n",
       "      <td>5.4</td>\n",
       "      <td>2.3</td>\n",
       "      <td>Iris-virginica</td>\n",
       "    </tr>\n",
       "    <tr>\n",
       "      <th>149</th>\n",
       "      <td>5.9</td>\n",
       "      <td>3.0</td>\n",
       "      <td>5.1</td>\n",
       "      <td>1.8</td>\n",
       "      <td>Iris-virginica</td>\n",
       "    </tr>\n",
       "  </tbody>\n",
       "</table>\n",
       "<p>150 rows × 5 columns</p>\n",
       "</div>"
      ],
      "text/plain": [
       "     Sepal_Length  Sepal_Width  Petal_Length  Petal_Width           Class\n",
       "0             5.1          3.5           1.4          0.2     Iris-setosa\n",
       "1             4.9          3.0           1.4          0.2     Iris-setosa\n",
       "2             4.7          3.2           1.3          0.2     Iris-setosa\n",
       "3             4.6          3.1           1.5          0.2     Iris-setosa\n",
       "4             5.0          3.6           1.4          0.2     Iris-setosa\n",
       "..            ...          ...           ...          ...             ...\n",
       "145           6.7          3.0           5.2          2.3  Iris-virginica\n",
       "146           6.3          2.5           5.0          1.9  Iris-virginica\n",
       "147           6.5          3.0           5.2          2.0  Iris-virginica\n",
       "148           6.2          3.4           5.4          2.3  Iris-virginica\n",
       "149           5.9          3.0           5.1          1.8  Iris-virginica\n",
       "\n",
       "[150 rows x 5 columns]"
      ]
     },
     "execution_count": 36,
     "metadata": {},
     "output_type": "execute_result"
    }
   ],
   "source": [
    "dataset"
   ]
  },
  {
   "cell_type": "markdown",
   "metadata": {},
   "source": [
    "lets see different information on our dataset"
   ]
  },
  {
   "cell_type": "code",
   "execution_count": 37,
   "metadata": {},
   "outputs": [
    {
     "name": "stdout",
     "output_type": "stream",
     "text": [
      "Shape of our dataset: (150, 5)\n",
      "Number of features: 4\n",
      "Number of labels: 1\n",
      "Number of examples: 150\n"
     ]
    }
   ],
   "source": [
    "print(\"Shape of our dataset:\", dataset.shape)\n",
    "print(\"Number of features:\", data_x.shape[1])\n",
    "print(\"Number of labels:\", data_y.shape[1])\n",
    "print(\"Number of examples:\", data_x.shape[0])"
   ]
  },
  {
   "cell_type": "code",
   "execution_count": 40,
   "metadata": {},
   "outputs": [
    {
     "name": "stdout",
     "output_type": "stream",
     "text": [
      "Number of different classes 3\n",
      "unique classes: ['Iris-setosa' 'Iris-versicolor' 'Iris-virginica']\n"
     ]
    }
   ],
   "source": [
    "print(\"Number of different classes\", len(data_y[\"Class\"].unique()))\n",
    "print(\"unique classes:\", data_y[\"Class\"].unique())"
   ]
  },
  {
   "cell_type": "code",
   "execution_count": 41,
   "metadata": {},
   "outputs": [
    {
     "data": {
      "text/plain": [
       "Iris-setosa        50\n",
       "Iris-versicolor    50\n",
       "Iris-virginica     50\n",
       "Name: Class, dtype: int64"
      ]
     },
     "execution_count": 41,
     "metadata": {},
     "output_type": "execute_result"
    }
   ],
   "source": [
    "data_y[\"Class\"].value_counts()"
   ]
  },
  {
   "cell_type": "markdown",
   "metadata": {},
   "source": [
    "# Introduction to Scikit-Learn (Sklearn)\n",
    "\n",
    "Scikit-Learn, often abbreviated as Sklearn, is a powerful and widely-used machine learning library in Python. It provides a comprehensive set of tools for various machine learning tasks, making it an excellent choice for both beginners and experienced data scientists.\n",
    "\n",
    "#### Key Features of Scikit-Learn\n",
    "\n",
    "Sklearn offers a plethora of features and benefits, including:\n",
    "\n",
    "- **User-Friendly Interface**: Sklearn provides a simple and consistent API that makes it easy to implement machine learning algorithms.\n",
    "  \n",
    "- **Wide Range of Algorithms**: It includes a diverse collection of machine learning algorithms, such as regression, classification, clustering, dimensionality reduction, and more.\n",
    "  \n",
    "- **Efficient Data Preprocessing**: Sklearn offers robust data preprocessing capabilities, including data cleaning, scaling, encoding, and feature selection.\n",
    "\n",
    "- **Model Evaluation**: It provides tools for model evaluation, including various metrics for classification and regression tasks."
   ]
  },
  {
   "cell_type": "markdown",
   "metadata": {},
   "source": [
    "# Data Preprocessing\n",
    "\n",
    "In some machine learning algorithms, the scales of the features can have a substantial impact on the results. Consider the k-nearest neighbors (KNN) algorithm, where we calculate the Euclidean distance to find the k nearest neighbors. When features have varying scales, it can significantly affect the algorithm's performance. If we don't normalize our data and bring features to similar scales, the algorithm will put more weight to features with larger scales, potentially leading to biased outcomes. In our case, for example, our dataset contains features with different scales, such as \"Sepal_Length\" and \"Petal_Width\".\n",
    "\n",
    "Scikit-Learn offers a range of preprocessing methods that enable us to modify our data and address issues related to feature scaling and other data preparation tasks."
   ]
  },
  {
   "cell_type": "markdown",
   "metadata": {},
   "source": [
    "The most common method to scale your dataset are listed bellow.\n",
    "1. min-max scaling\n",
    "    * $x_{scaled} = (x - min) / (max-min)$\n",
    "    * $x_{scaled} \\in [0,1]$\n",
    "    * not good technique when you have outliers\n",
    "    \n",
    "    \n",
    "2. standard scaling\n",
    "   * $x_{scaled} = (x - mean) / std$\n",
    "   * $mean(x_{scaled}) = 0$\n",
    "   * $std(x_{scaled}) = 1$\n",
    "   * robust to outliers"
   ]
  },
  {
   "cell_type": "code",
   "execution_count": 42,
   "metadata": {},
   "outputs": [],
   "source": [
    "from sklearn.preprocessing import StandardScaler\n",
    "\n",
    "standard_scaler = StandardScaler().fit(data_x[features])\n",
    "\n",
    "norm_x = standard_scaler.transform(data_x[features]) \n",
    "# sklearn return a numpy so we can convert back to pandas\n",
    "norm_x = pd.DataFrame(norm_x,columns=features)"
   ]
  },
  {
   "cell_type": "code",
   "execution_count": 43,
   "metadata": {},
   "outputs": [
    {
     "data": {
      "text/html": [
       "<div>\n",
       "<style scoped>\n",
       "    .dataframe tbody tr th:only-of-type {\n",
       "        vertical-align: middle;\n",
       "    }\n",
       "\n",
       "    .dataframe tbody tr th {\n",
       "        vertical-align: top;\n",
       "    }\n",
       "\n",
       "    .dataframe thead th {\n",
       "        text-align: right;\n",
       "    }\n",
       "</style>\n",
       "<table border=\"1\" class=\"dataframe\">\n",
       "  <thead>\n",
       "    <tr style=\"text-align: right;\">\n",
       "      <th></th>\n",
       "      <th>Sepal_Length</th>\n",
       "      <th>Sepal_Width</th>\n",
       "      <th>Petal_Length</th>\n",
       "      <th>Petal_Width</th>\n",
       "    </tr>\n",
       "  </thead>\n",
       "  <tbody>\n",
       "    <tr>\n",
       "      <th>0</th>\n",
       "      <td>-0.900681</td>\n",
       "      <td>1.032057</td>\n",
       "      <td>-1.341272</td>\n",
       "      <td>-1.312977</td>\n",
       "    </tr>\n",
       "    <tr>\n",
       "      <th>1</th>\n",
       "      <td>-1.143017</td>\n",
       "      <td>-0.124958</td>\n",
       "      <td>-1.341272</td>\n",
       "      <td>-1.312977</td>\n",
       "    </tr>\n",
       "    <tr>\n",
       "      <th>2</th>\n",
       "      <td>-1.385353</td>\n",
       "      <td>0.337848</td>\n",
       "      <td>-1.398138</td>\n",
       "      <td>-1.312977</td>\n",
       "    </tr>\n",
       "    <tr>\n",
       "      <th>3</th>\n",
       "      <td>-1.506521</td>\n",
       "      <td>0.106445</td>\n",
       "      <td>-1.284407</td>\n",
       "      <td>-1.312977</td>\n",
       "    </tr>\n",
       "    <tr>\n",
       "      <th>4</th>\n",
       "      <td>-1.021849</td>\n",
       "      <td>1.263460</td>\n",
       "      <td>-1.341272</td>\n",
       "      <td>-1.312977</td>\n",
       "    </tr>\n",
       "    <tr>\n",
       "      <th>...</th>\n",
       "      <td>...</td>\n",
       "      <td>...</td>\n",
       "      <td>...</td>\n",
       "      <td>...</td>\n",
       "    </tr>\n",
       "    <tr>\n",
       "      <th>145</th>\n",
       "      <td>1.038005</td>\n",
       "      <td>-0.124958</td>\n",
       "      <td>0.819624</td>\n",
       "      <td>1.447956</td>\n",
       "    </tr>\n",
       "    <tr>\n",
       "      <th>146</th>\n",
       "      <td>0.553333</td>\n",
       "      <td>-1.281972</td>\n",
       "      <td>0.705893</td>\n",
       "      <td>0.922064</td>\n",
       "    </tr>\n",
       "    <tr>\n",
       "      <th>147</th>\n",
       "      <td>0.795669</td>\n",
       "      <td>-0.124958</td>\n",
       "      <td>0.819624</td>\n",
       "      <td>1.053537</td>\n",
       "    </tr>\n",
       "    <tr>\n",
       "      <th>148</th>\n",
       "      <td>0.432165</td>\n",
       "      <td>0.800654</td>\n",
       "      <td>0.933356</td>\n",
       "      <td>1.447956</td>\n",
       "    </tr>\n",
       "    <tr>\n",
       "      <th>149</th>\n",
       "      <td>0.068662</td>\n",
       "      <td>-0.124958</td>\n",
       "      <td>0.762759</td>\n",
       "      <td>0.790591</td>\n",
       "    </tr>\n",
       "  </tbody>\n",
       "</table>\n",
       "<p>150 rows × 4 columns</p>\n",
       "</div>"
      ],
      "text/plain": [
       "     Sepal_Length  Sepal_Width  Petal_Length  Petal_Width\n",
       "0       -0.900681     1.032057     -1.341272    -1.312977\n",
       "1       -1.143017    -0.124958     -1.341272    -1.312977\n",
       "2       -1.385353     0.337848     -1.398138    -1.312977\n",
       "3       -1.506521     0.106445     -1.284407    -1.312977\n",
       "4       -1.021849     1.263460     -1.341272    -1.312977\n",
       "..            ...          ...           ...          ...\n",
       "145      1.038005    -0.124958      0.819624     1.447956\n",
       "146      0.553333    -1.281972      0.705893     0.922064\n",
       "147      0.795669    -0.124958      0.819624     1.053537\n",
       "148      0.432165     0.800654      0.933356     1.447956\n",
       "149      0.068662    -0.124958      0.762759     0.790591\n",
       "\n",
       "[150 rows x 4 columns]"
      ]
     },
     "execution_count": 43,
     "metadata": {},
     "output_type": "execute_result"
    }
   ],
   "source": [
    "norm_x"
   ]
  },
  {
   "cell_type": "code",
   "execution_count": 44,
   "metadata": {},
   "outputs": [
    {
     "data": {
      "text/plain": [
       "<Figure size 640x480 with 0 Axes>"
      ]
     },
     "metadata": {},
     "output_type": "display_data"
    },
    {
     "data": {
      "image/png": "[encoded data removed]",
      "text/plain": [
       "<Figure size 800x1200 with 14 Axes>"
      ]
     },
     "metadata": {},
     "output_type": "display_data"
    }
   ],
   "source": [
    "plt.figure()\n",
    "norm_x[features].plot.density(subplots=True, \n",
    "                              layout=(7, 2),\n",
    "                              figsize=(8,12),\n",
    "                              sharex=True,\n",
    "sharey=False)\n",
    "plt.show()                              \n",
    "plt.close()"
   ]
  },
  {
   "cell_type": "code",
   "execution_count": 48,
   "metadata": {},
   "outputs": [
    {
     "data": {
      "text/plain": [
       "Sepal_Length   -4.736952e-16\n",
       "Sepal_Width    -6.631732e-16\n",
       "Petal_Length    3.315866e-16\n",
       "Petal_Width    -2.842171e-16\n",
       "dtype: float64"
      ]
     },
     "execution_count": 48,
     "metadata": {},
     "output_type": "execute_result"
    }
   ],
   "source": [
    "norm_x[features].mean()"
   ]
  },
  {
   "cell_type": "code",
   "execution_count": 49,
   "metadata": {},
   "outputs": [
    {
     "data": {
      "text/plain": [
       "<Figure size 640x480 with 0 Axes>"
      ]
     },
     "metadata": {},
     "output_type": "display_data"
    },
    {
     "data": {
      "image/png": "[encoded data removed]",
      "text/plain": [
       "<Figure size 800x1200 with 14 Axes>"
      ]
     },
     "metadata": {},
     "output_type": "display_data"
    }
   ],
   "source": [
    "plt.figure()\n",
    "dataset[features].plot.density(subplots=True, \n",
    "                              layout=(7, 2),\n",
    "                              figsize=(8,12),\n",
    "                              sharex=True,\n",
    "sharey=False)\n",
    "plt.show()                              \n",
    "plt.close()"
   ]
  },
  {
   "cell_type": "markdown",
   "metadata": {},
   "source": [
    "# Sklearn models API\n",
    "\n",
    "[Sklearn](https://scikit-learn.org/stable/supervised_learning.html) user guide."
   ]
  },
  {
   "cell_type": "code",
   "execution_count": 50,
   "metadata": {},
   "outputs": [],
   "source": [
    "from sklearn.neighbors import KNeighborsClassifier\n",
    "\n",
    "model = KNeighborsClassifier(n_neighbors=10)"
   ]
  },
  {
   "cell_type": "code",
   "execution_count": 51,
   "metadata": {},
   "outputs": [
    {
     "data": {
      "text/html": [
       "<style>#sk-container-id-3 {color: black;background-color: white;}#sk-container-id-3 pre{padding: 0;}#sk-container-id-3 div.sk-toggleable {background-color: white;}#sk-container-id-3 label.sk-toggleable__label {cursor: pointer;display: block;width: 100%;margin-bottom: 0;padding: 0.3em;box-sizing: border-box;text-align: center;}#sk-container-id-3 label.sk-toggleable__label-arrow:before {content: \"▸\";float: left;margin-right: 0.25em;color: #696969;}#sk-container-id-3 label.sk-toggleable__label-arrow:hover:before {color: black;}#sk-container-id-3 div.sk-estimator:hover label.sk-toggleable__label-arrow:before {color: black;}#sk-container-id-3 div.sk-toggleable__content {max-height: 0;max-width: 0;overflow: hidden;text-align: left;background-color: #f0f8ff;}#sk-container-id-3 div.sk-toggleable__content pre {margin: 0.2em;color: black;border-radius: 0.25em;background-color: #f0f8ff;}#sk-container-id-3 input.sk-toggleable__control:checked~div.sk-toggleable__content {max-height: 200px;max-width: 100%;overflow: auto;}#sk-container-id-3 input.sk-toggleable__control:checked~label.sk-toggleable__label-arrow:before {content: \"▾\";}#sk-container-id-3 div.sk-estimator input.sk-toggleable__control:checked~label.sk-toggleable__label {background-color: #d4ebff;}#sk-container-id-3 div.sk-label input.sk-toggleable__control:checked~label.sk-toggleable__label {background-color: #d4ebff;}#sk-container-id-3 input.sk-hidden--visually {border: 0;clip: rect(1px 1px 1px 1px);clip: rect(1px, 1px, 1px, 1px);height: 1px;margin: -1px;overflow: hidden;padding: 0;position: absolute;width: 1px;}#sk-container-id-3 div.sk-estimator {font-family: monospace;background-color: #f0f8ff;border: 1px dotted black;border-radius: 0.25em;box-sizing: border-box;margin-bottom: 0.5em;}#sk-container-id-3 div.sk-estimator:hover {background-color: #d4ebff;}#sk-container-id-3 div.sk-parallel-item::after {content: \"\";width: 100%;border-bottom: 1px solid gray;flex-grow: 1;}#sk-container-id-3 div.sk-label:hover label.sk-toggleable__label {background-color: #d4ebff;}#sk-container-id-3 div.sk-serial::before {content: \"\";position: absolute;border-left: 1px solid gray;box-sizing: border-box;top: 0;bottom: 0;left: 50%;z-index: 0;}#sk-container-id-3 div.sk-serial {display: flex;flex-direction: column;align-items: center;background-color: white;padding-right: 0.2em;padding-left: 0.2em;position: relative;}#sk-container-id-3 div.sk-item {position: relative;z-index: 1;}#sk-container-id-3 div.sk-parallel {display: flex;align-items: stretch;justify-content: center;background-color: white;position: relative;}#sk-container-id-3 div.sk-item::before, #sk-container-id-3 div.sk-parallel-item::before {content: \"\";position: absolute;border-left: 1px solid gray;box-sizing: border-box;top: 0;bottom: 0;left: 50%;z-index: -1;}#sk-container-id-3 div.sk-parallel-item {display: flex;flex-direction: column;z-index: 1;position: relative;background-color: white;}#sk-container-id-3 div.sk-parallel-item:first-child::after {align-self: flex-end;width: 50%;}#sk-container-id-3 div.sk-parallel-item:last-child::after {align-self: flex-start;width: 50%;}#sk-container-id-3 div.sk-parallel-item:only-child::after {width: 0;}#sk-container-id-3 div.sk-dashed-wrapped {border: 1px dashed gray;margin: 0 0.4em 0.5em 0.4em;box-sizing: border-box;padding-bottom: 0.4em;background-color: white;}#sk-container-id-3 div.sk-label label {font-family: monospace;font-weight: bold;display: inline-block;line-height: 1.2em;}#sk-container-id-3 div.sk-label-container {text-align: center;}#sk-container-id-3 div.sk-container {/* jupyter's `normalize.less` sets `[hidden] { display: none; }` but bootstrap.min.css set `[hidden] { display: none !important; }` so we also need the `!important` here to be able to override the default hidden behavior on the sphinx rendered scikit-learn.org. See: https://github.com/scikit-learn/scikit-learn/issues/21755 */display: inline-block !important;position: relative;}#sk-container-id-3 div.sk-text-repr-fallback {display: none;}</style><div id=\"sk-container-id-3\" class=\"sk-top-container\"><div class=\"sk-text-repr-fallback\"><pre>KNeighborsClassifier(n_neighbors=10)</pre><b>In a Jupyter environment, please rerun this cell to show the HTML representation or trust the notebook. <br />On GitHub, the HTML representation is unable to render, please try loading this page with nbviewer.org.</b></div><div class=\"sk-container\" hidden><div class=\"sk-item\"><div class=\"sk-estimator sk-toggleable\"><input class=\"sk-toggleable__control sk-hidden--visually\" id=\"sk-estimator-id-3\" type=\"checkbox\" checked><label for=\"sk-estimator-id-3\" class=\"sk-toggleable__label sk-toggleable__label-arrow\">KNeighborsClassifier</label><div class=\"sk-toggleable__content\"><pre>KNeighborsClassifier(n_neighbors=10)</pre></div></div></div></div></div>"
      ],
      "text/plain": [
       "KNeighborsClassifier(n_neighbors=10)"
      ]
     },
     "execution_count": 51,
     "metadata": {},
     "output_type": "execute_result"
    }
   ],
   "source": [
    "# we can train our model using the fit method\n",
    "model.fit(norm_x[features], data_y[target])"
   ]
  },
  {
   "cell_type": "code",
   "execution_count": 52,
   "metadata": {},
   "outputs": [
    {
     "data": {
      "text/plain": [
       "array(['Iris-setosa', 'Iris-setosa', 'Iris-setosa', 'Iris-setosa',\n",
       "       'Iris-setosa', 'Iris-setosa', 'Iris-setosa', 'Iris-setosa',\n",
       "       'Iris-setosa', 'Iris-setosa', 'Iris-setosa', 'Iris-setosa',\n",
       "       'Iris-setosa', 'Iris-setosa', 'Iris-setosa', 'Iris-setosa',\n",
       "       'Iris-setosa', 'Iris-setosa', 'Iris-setosa', 'Iris-setosa',\n",
       "       'Iris-setosa', 'Iris-setosa', 'Iris-setosa', 'Iris-setosa',\n",
       "       'Iris-setosa', 'Iris-setosa', 'Iris-setosa', 'Iris-setosa',\n",
       "       'Iris-setosa', 'Iris-setosa', 'Iris-setosa', 'Iris-setosa',\n",
       "       'Iris-setosa', 'Iris-setosa', 'Iris-setosa', 'Iris-setosa',\n",
       "       'Iris-setosa', 'Iris-setosa', 'Iris-setosa', 'Iris-setosa',\n",
       "       'Iris-setosa', 'Iris-setosa', 'Iris-setosa', 'Iris-setosa',\n",
       "       'Iris-setosa', 'Iris-setosa', 'Iris-setosa', 'Iris-setosa',\n",
       "       'Iris-setosa', 'Iris-setosa', 'Iris-versicolor', 'Iris-versicolor',\n",
       "       'Iris-versicolor', 'Iris-versicolor', 'Iris-versicolor',\n",
       "       'Iris-versicolor', 'Iris-versicolor', 'Iris-versicolor',\n",
       "       'Iris-versicolor', 'Iris-versicolor', 'Iris-versicolor',\n",
       "       'Iris-versicolor', 'Iris-versicolor', 'Iris-versicolor',\n",
       "       'Iris-versicolor', 'Iris-versicolor', 'Iris-versicolor',\n",
       "       'Iris-versicolor', 'Iris-versicolor', 'Iris-versicolor',\n",
       "       'Iris-versicolor', 'Iris-versicolor', 'Iris-versicolor',\n",
       "       'Iris-versicolor', 'Iris-versicolor', 'Iris-versicolor',\n",
       "       'Iris-versicolor', 'Iris-versicolor', 'Iris-versicolor',\n",
       "       'Iris-versicolor', 'Iris-versicolor', 'Iris-versicolor',\n",
       "       'Iris-versicolor', 'Iris-virginica', 'Iris-versicolor',\n",
       "       'Iris-versicolor', 'Iris-versicolor', 'Iris-versicolor',\n",
       "       'Iris-versicolor', 'Iris-versicolor', 'Iris-versicolor',\n",
       "       'Iris-versicolor', 'Iris-versicolor', 'Iris-versicolor',\n",
       "       'Iris-versicolor', 'Iris-versicolor', 'Iris-versicolor',\n",
       "       'Iris-versicolor', 'Iris-versicolor', 'Iris-versicolor',\n",
       "       'Iris-virginica', 'Iris-virginica', 'Iris-virginica',\n",
       "       'Iris-virginica', 'Iris-virginica', 'Iris-virginica',\n",
       "       'Iris-versicolor', 'Iris-virginica', 'Iris-virginica',\n",
       "       'Iris-virginica', 'Iris-virginica', 'Iris-virginica',\n",
       "       'Iris-virginica', 'Iris-virginica', 'Iris-virginica',\n",
       "       'Iris-virginica', 'Iris-virginica', 'Iris-virginica',\n",
       "       'Iris-virginica', 'Iris-versicolor', 'Iris-virginica',\n",
       "       'Iris-virginica', 'Iris-virginica', 'Iris-virginica',\n",
       "       'Iris-virginica', 'Iris-virginica', 'Iris-virginica',\n",
       "       'Iris-virginica', 'Iris-virginica', 'Iris-virginica',\n",
       "       'Iris-virginica', 'Iris-virginica', 'Iris-virginica',\n",
       "       'Iris-versicolor', 'Iris-virginica', 'Iris-virginica',\n",
       "       'Iris-virginica', 'Iris-virginica', 'Iris-versicolor',\n",
       "       'Iris-virginica', 'Iris-virginica', 'Iris-virginica',\n",
       "       'Iris-virginica', 'Iris-virginica', 'Iris-virginica',\n",
       "       'Iris-virginica', 'Iris-virginica', 'Iris-virginica',\n",
       "       'Iris-virginica', 'Iris-versicolor'], dtype=object)"
      ]
     },
     "execution_count": 52,
     "metadata": {},
     "output_type": "execute_result"
    }
   ],
   "source": [
    "# we can also make prediction on the dataset\n",
    "model.predict(norm_x[features])"
   ]
  },
  {
   "cell_type": "code",
   "execution_count": 53,
   "metadata": {},
   "outputs": [
    {
     "data": {
      "text/plain": [
       "array([[1. , 0. , 0. ],\n",
       "       [1. , 0. , 0. ],\n",
       "       [1. , 0. , 0. ],\n",
       "       [1. , 0. , 0. ],\n",
       "       [1. , 0. , 0. ],\n",
       "       [1. , 0. , 0. ],\n",
       "       [1. , 0. , 0. ],\n",
       "       [1. , 0. , 0. ],\n",
       "       [1. , 0. , 0. ],\n",
       "       [1. , 0. , 0. ],\n",
       "       [1. , 0. , 0. ],\n",
       "       [1. , 0. , 0. ],\n",
       "       [1. , 0. , 0. ],\n",
       "       [1. , 0. , 0. ],\n",
       "       [1. , 0. , 0. ],\n",
       "       [1. , 0. , 0. ],\n",
       "       [1. , 0. , 0. ],\n",
       "       [1. , 0. , 0. ],\n",
       "       [1. , 0. , 0. ],\n",
       "       [1. , 0. , 0. ],\n",
       "       [1. , 0. , 0. ],\n",
       "       [1. , 0. , 0. ],\n",
       "       [1. , 0. , 0. ],\n",
       "       [1. , 0. , 0. ],\n",
       "       [1. , 0. , 0. ],\n",
       "       [1. , 0. , 0. ],\n",
       "       [1. , 0. , 0. ],\n",
       "       [1. , 0. , 0. ],\n",
       "       [1. , 0. , 0. ],\n",
       "       [1. , 0. , 0. ],\n",
       "       [1. , 0. , 0. ],\n",
       "       [1. , 0. , 0. ],\n",
       "       [1. , 0. , 0. ],\n",
       "       [1. , 0. , 0. ],\n",
       "       [1. , 0. , 0. ],\n",
       "       [1. , 0. , 0. ],\n",
       "       [1. , 0. , 0. ],\n",
       "       [1. , 0. , 0. ],\n",
       "       [1. , 0. , 0. ],\n",
       "       [1. , 0. , 0. ],\n",
       "       [1. , 0. , 0. ],\n",
       "       [0.7, 0.3, 0. ],\n",
       "       [1. , 0. , 0. ],\n",
       "       [1. , 0. , 0. ],\n",
       "       [1. , 0. , 0. ],\n",
       "       [1. , 0. , 0. ],\n",
       "       [1. , 0. , 0. ],\n",
       "       [1. , 0. , 0. ],\n",
       "       [1. , 0. , 0. ],\n",
       "       [1. , 0. , 0. ],\n",
       "       [0. , 0.9, 0.1],\n",
       "       [0. , 0.9, 0.1],\n",
       "       [0. , 0.9, 0.1],\n",
       "       [0. , 1. , 0. ],\n",
       "       [0. , 0.7, 0.3],\n",
       "       [0. , 1. , 0. ],\n",
       "       [0. , 0.7, 0.3],\n",
       "       [0. , 1. , 0. ],\n",
       "       [0. , 0.9, 0.1],\n",
       "       [0. , 0.9, 0.1],\n",
       "       [0. , 1. , 0. ],\n",
       "       [0. , 0.9, 0.1],\n",
       "       [0. , 0.9, 0.1],\n",
       "       [0. , 0.9, 0.1],\n",
       "       [0. , 1. , 0. ],\n",
       "       [0. , 1. , 0. ],\n",
       "       [0. , 1. , 0. ],\n",
       "       [0. , 1. , 0. ],\n",
       "       [0. , 0.7, 0.3],\n",
       "       [0. , 1. , 0. ],\n",
       "       [0. , 0.7, 0.3],\n",
       "       [0. , 1. , 0. ],\n",
       "       [0. , 0.5, 0.5],\n",
       "       [0. , 0.9, 0.1],\n",
       "       [0. , 1. , 0. ],\n",
       "       [0. , 1. , 0. ],\n",
       "       [0. , 0.9, 0.1],\n",
       "       [0. , 0.6, 0.4],\n",
       "       [0. , 0.9, 0.1],\n",
       "       [0. , 1. , 0. ],\n",
       "       [0. , 1. , 0. ],\n",
       "       [0. , 1. , 0. ],\n",
       "       [0. , 1. , 0. ],\n",
       "       [0. , 0.4, 0.6],\n",
       "       [0. , 1. , 0. ],\n",
       "       [0. , 0.6, 0.4],\n",
       "       [0. , 1. , 0. ],\n",
       "       [0. , 0.7, 0.3],\n",
       "       [0. , 1. , 0. ],\n",
       "       [0. , 1. , 0. ],\n",
       "       [0. , 1. , 0. ],\n",
       "       [0. , 0.8, 0.2],\n",
       "       [0. , 1. , 0. ],\n",
       "       [0. , 1. , 0. ],\n",
       "       [0. , 1. , 0. ],\n",
       "       [0. , 1. , 0. ],\n",
       "       [0. , 1. , 0. ],\n",
       "       [0. , 1. , 0. ],\n",
       "       [0. , 1. , 0. ],\n",
       "       [0. , 1. , 0. ],\n",
       "       [0. , 0. , 1. ],\n",
       "       [0. , 0.1, 0.9],\n",
       "       [0. , 0. , 1. ],\n",
       "       [0. , 0. , 1. ],\n",
       "       [0. , 0. , 1. ],\n",
       "       [0. , 0. , 1. ],\n",
       "       [0. , 0.8, 0.2],\n",
       "       [0. , 0. , 1. ],\n",
       "       [0. , 0.2, 0.8],\n",
       "       [0. , 0. , 1. ],\n",
       "       [0. , 0.1, 0.9],\n",
       "       [0. , 0.1, 0.9],\n",
       "       [0. , 0. , 1. ],\n",
       "       [0. , 0.2, 0.8],\n",
       "       [0. , 0. , 1. ],\n",
       "       [0. , 0. , 1. ],\n",
       "       [0. , 0.1, 0.9],\n",
       "       [0. , 0. , 1. ],\n",
       "       [0. , 0. , 1. ],\n",
       "       [0. , 0.6, 0.4],\n",
       "       [0. , 0. , 1. ],\n",
       "       [0. , 0.1, 0.9],\n",
       "       [0. , 0. , 1. ],\n",
       "       [0. , 0.3, 0.7],\n",
       "       [0. , 0. , 1. ],\n",
       "       [0. , 0. , 1. ],\n",
       "       [0. , 0.3, 0.7],\n",
       "       [0. , 0.3, 0.7],\n",
       "       [0. , 0. , 1. ],\n",
       "       [0. , 0.3, 0.7],\n",
       "       [0. , 0. , 1. ],\n",
       "       [0. , 0. , 1. ],\n",
       "       [0. , 0. , 1. ],\n",
       "       [0. , 0.6, 0.4],\n",
       "       [0. , 0.3, 0.7],\n",
       "       [0. , 0. , 1. ],\n",
       "       [0. , 0. , 1. ],\n",
       "       [0. , 0.1, 0.9],\n",
       "       [0. , 0.5, 0.5],\n",
       "       [0. , 0. , 1. ],\n",
       "       [0. , 0. , 1. ],\n",
       "       [0. , 0. , 1. ],\n",
       "       [0. , 0.1, 0.9],\n",
       "       [0. , 0. , 1. ],\n",
       "       [0. , 0. , 1. ],\n",
       "       [0. , 0. , 1. ],\n",
       "       [0. , 0.2, 0.8],\n",
       "       [0. , 0.1, 0.9],\n",
       "       [0. , 0.1, 0.9],\n",
       "       [0. , 0.5, 0.5]])"
      ]
     },
     "execution_count": 53,
     "metadata": {},
     "output_type": "execute_result"
    }
   ],
   "source": [
    "# we can get the predicted propabilities\n",
    "model.predict_proba(norm_x[features])"
   ]
  },
  {
   "cell_type": "markdown",
   "metadata": {},
   "source": [
    "# Generalization\n",
    "\n",
    "When developing a machine learning algorithm, the goal is not just to learn a model that good performance in our dataset. We want our model to be capable of generating accurate predictions for data it hasn't seen before. So we aim for our model to generalize well to upcoming data.\n",
    "# Model Selection\n",
    "In the process of model development, we often encounter various candidate models or different hyperparameter settings for our algorithms. For instance, in the k-nearest neighbors (KNN) algorithm, the choice of 'k' is a hyperparameter. Another hyperparameter is the distance metric used to calculate distances between data points. The collection of available candidates is typically referred to as the hypothesis space.\n",
    "\n",
    "Therefore, when creating a model for a specific problem, our primary objective is typically to identify the model with the strongest generalization capabilities, the model that best explains future observations."
   ]
  },
  {
   "cell_type": "markdown",
   "metadata": {},
   "source": [
    "![Generalization](./figures/generalization.png)"
   ]
  },
  {
   "cell_type": "markdown",
   "metadata": {},
   "source": [
    "# Choosing model based on the train data.\n",
    "\n",
    "To demonstrate the problem of measuring the accuracy on the training set lets split our data in two different dataset.\n",
    "\n",
    "1. **Development set**: the that we can use in order to produce our final model\n",
    "2. **Testing set**: that we can use estimate the performance of our data in unseen data\n",
    "\n",
    "We assume that during the training we don't have any access to the Testing set, so we can use it to select the best model."
   ]
  },
  {
   "cell_type": "code",
   "execution_count": 54,
   "metadata": {},
   "outputs": [],
   "source": [
    "from sklearn.model_selection import train_test_split\n",
    "\n",
    "# Split our data into training and test set.\n",
    "X_develop, X_test, y_develop, y_test = train_test_split(norm_x, data_y, test_size=0.3, random_state=4)"
   ]
  },
  {
   "cell_type": "code",
   "execution_count": 55,
   "metadata": {},
   "outputs": [
    {
     "name": "stdout",
     "output_type": "stream",
     "text": [
      "Train set size : (105, 4)\n",
      "Test set size : (45, 4)\n"
     ]
    }
   ],
   "source": [
    "print(\"Train set size :\", X_develop.shape)\n",
    "print(\"Test set size :\",  X_test.shape)"
   ]
  },
  {
   "cell_type": "code",
   "execution_count": 56,
   "metadata": {},
   "outputs": [
    {
     "data": {
      "text/html": [
       "<style>#sk-container-id-4 {color: black;background-color: white;}#sk-container-id-4 pre{padding: 0;}#sk-container-id-4 div.sk-toggleable {background-color: white;}#sk-container-id-4 label.sk-toggleable__label {cursor: pointer;display: block;width: 100%;margin-bottom: 0;padding: 0.3em;box-sizing: border-box;text-align: center;}#sk-container-id-4 label.sk-toggleable__label-arrow:before {content: \"▸\";float: left;margin-right: 0.25em;color: #696969;}#sk-container-id-4 label.sk-toggleable__label-arrow:hover:before {color: black;}#sk-container-id-4 div.sk-estimator:hover label.sk-toggleable__label-arrow:before {color: black;}#sk-container-id-4 div.sk-toggleable__content {max-height: 0;max-width: 0;overflow: hidden;text-align: left;background-color: #f0f8ff;}#sk-container-id-4 div.sk-toggleable__content pre {margin: 0.2em;color: black;border-radius: 0.25em;background-color: #f0f8ff;}#sk-container-id-4 input.sk-toggleable__control:checked~div.sk-toggleable__content {max-height: 200px;max-width: 100%;overflow: auto;}#sk-container-id-4 input.sk-toggleable__control:checked~label.sk-toggleable__label-arrow:before {content: \"▾\";}#sk-container-id-4 div.sk-estimator input.sk-toggleable__control:checked~label.sk-toggleable__label {background-color: #d4ebff;}#sk-container-id-4 div.sk-label input.sk-toggleable__control:checked~label.sk-toggleable__label {background-color: #d4ebff;}#sk-container-id-4 input.sk-hidden--visually {border: 0;clip: rect(1px 1px 1px 1px);clip: rect(1px, 1px, 1px, 1px);height: 1px;margin: -1px;overflow: hidden;padding: 0;position: absolute;width: 1px;}#sk-container-id-4 div.sk-estimator {font-family: monospace;background-color: #f0f8ff;border: 1px dotted black;border-radius: 0.25em;box-sizing: border-box;margin-bottom: 0.5em;}#sk-container-id-4 div.sk-estimator:hover {background-color: #d4ebff;}#sk-container-id-4 div.sk-parallel-item::after {content: \"\";width: 100%;border-bottom: 1px solid gray;flex-grow: 1;}#sk-container-id-4 div.sk-label:hover label.sk-toggleable__label {background-color: #d4ebff;}#sk-container-id-4 div.sk-serial::before {content: \"\";position: absolute;border-left: 1px solid gray;box-sizing: border-box;top: 0;bottom: 0;left: 50%;z-index: 0;}#sk-container-id-4 div.sk-serial {display: flex;flex-direction: column;align-items: center;background-color: white;padding-right: 0.2em;padding-left: 0.2em;position: relative;}#sk-container-id-4 div.sk-item {position: relative;z-index: 1;}#sk-container-id-4 div.sk-parallel {display: flex;align-items: stretch;justify-content: center;background-color: white;position: relative;}#sk-container-id-4 div.sk-item::before, #sk-container-id-4 div.sk-parallel-item::before {content: \"\";position: absolute;border-left: 1px solid gray;box-sizing: border-box;top: 0;bottom: 0;left: 50%;z-index: -1;}#sk-container-id-4 div.sk-parallel-item {display: flex;flex-direction: column;z-index: 1;position: relative;background-color: white;}#sk-container-id-4 div.sk-parallel-item:first-child::after {align-self: flex-end;width: 50%;}#sk-container-id-4 div.sk-parallel-item:last-child::after {align-self: flex-start;width: 50%;}#sk-container-id-4 div.sk-parallel-item:only-child::after {width: 0;}#sk-container-id-4 div.sk-dashed-wrapped {border: 1px dashed gray;margin: 0 0.4em 0.5em 0.4em;box-sizing: border-box;padding-bottom: 0.4em;background-color: white;}#sk-container-id-4 div.sk-label label {font-family: monospace;font-weight: bold;display: inline-block;line-height: 1.2em;}#sk-container-id-4 div.sk-label-container {text-align: center;}#sk-container-id-4 div.sk-container {/* jupyter's `normalize.less` sets `[hidden] { display: none; }` but bootstrap.min.css set `[hidden] { display: none !important; }` so we also need the `!important` here to be able to override the default hidden behavior on the sphinx rendered scikit-learn.org. See: https://github.com/scikit-learn/scikit-learn/issues/21755 */display: inline-block !important;position: relative;}#sk-container-id-4 div.sk-text-repr-fallback {display: none;}</style><div id=\"sk-container-id-4\" class=\"sk-top-container\"><div class=\"sk-text-repr-fallback\"><pre>KNeighborsClassifier(n_neighbors=1)</pre><b>In a Jupyter environment, please rerun this cell to show the HTML representation or trust the notebook. <br />On GitHub, the HTML representation is unable to render, please try loading this page with nbviewer.org.</b></div><div class=\"sk-container\" hidden><div class=\"sk-item\"><div class=\"sk-estimator sk-toggleable\"><input class=\"sk-toggleable__control sk-hidden--visually\" id=\"sk-estimator-id-4\" type=\"checkbox\" checked><label for=\"sk-estimator-id-4\" class=\"sk-toggleable__label sk-toggleable__label-arrow\">KNeighborsClassifier</label><div class=\"sk-toggleable__content\"><pre>KNeighborsClassifier(n_neighbors=1)</pre></div></div></div></div></div>"
      ],
      "text/plain": [
       "KNeighborsClassifier(n_neighbors=1)"
      ]
     },
     "execution_count": 56,
     "metadata": {},
     "output_type": "execute_result"
    }
   ],
   "source": [
    "from sklearn.neighbors import KNeighborsClassifier\n",
    "# train our model using the development set.\n",
    "model = KNeighborsClassifier(n_neighbors=1)\n",
    "model.fit(X_develop, y_develop[target])"
   ]
  },
  {
   "cell_type": "markdown",
   "metadata": {},
   "source": [
    "## Check the accuracy on train set"
   ]
  },
  {
   "cell_type": "code",
   "execution_count": 57,
   "metadata": {},
   "outputs": [
    {
     "name": "stdout",
     "output_type": "stream",
     "text": [
      "Accuracy Score: 100.0%\n"
     ]
    }
   ],
   "source": [
    "from sklearn.metrics import accuracy_score\n",
    "# make prediction on the development set\n",
    "prediction_train = model.predict(X_develop)\n",
    "\n",
    "# measure the performance of the development set\n",
    "train_score = accuracy_score(y_true = y_develop[target],\n",
    "                             y_pred = prediction_train)\n",
    "print(f\"Accuracy Score: {train_score*100}%\")"
   ]
  },
  {
   "cell_type": "markdown",
   "metadata": {},
   "source": [
    "## Check the accuracy on Test set"
   ]
  },
  {
   "cell_type": "code",
   "execution_count": 58,
   "metadata": {},
   "outputs": [
    {
     "name": "stdout",
     "output_type": "stream",
     "text": [
      "Accuracy Score: 93.33333333333333%\n"
     ]
    }
   ],
   "source": [
    "# make prediction on the Test set\n",
    "prediction_test = model.predict(X_test)\n",
    "\n",
    "# measure the Accuracy on the Test set\n",
    "train_score = accuracy_score(y_true = y_test[target],\n",
    "                             y_pred = prediction_test)\n",
    "\n",
    "print(f\"Accuracy Score: {train_score*100}%\")"
   ]
  },
  {
   "cell_type": "markdown",
   "metadata": {},
   "source": [
    "We can observe that our model has different accuracy compared to the training and test sets.  \n",
    "So there might be a better setting for k that could lead to better generalization."
   ]
  },
  {
   "cell_type": "markdown",
   "metadata": {},
   "source": [
    "We can do the same for every hyperparameter and illustrate the different on the performance."
   ]
  },
  {
   "cell_type": "code",
   "execution_count": 19,
   "metadata": {},
   "outputs": [],
   "source": [
    "different_k_settings = list(range(1, 70, 10))"
   ]
  },
  {
   "cell_type": "code",
   "execution_count": 20,
   "metadata": {},
   "outputs": [
    {
     "data": {
      "text/plain": [
       "[1, 11, 21, 31, 41, 51, 61]"
      ]
     },
     "execution_count": 20,
     "metadata": {},
     "output_type": "execute_result"
    }
   ],
   "source": [
    "different_k_settings"
   ]
  },
  {
   "cell_type": "code",
   "execution_count": 21,
   "metadata": {},
   "outputs": [],
   "source": [
    "dev_results = {}\n",
    "test_accuracy_results = {}\n",
    "for k in different_k_settings:\n",
    "    model = KNeighborsClassifier(n_neighbors=k)\n",
    "    model.fit(X_develop, y_develop[target])\n",
    "\n",
    "    \n",
    "    # get the prediction of the model on validation set\n",
    "    prediction_train = model.predict(X_develop)\n",
    "    dev_results[k] = accuracy_score(y_true = y_develop[target],\n",
    "                                    y_pred = prediction_train)\n",
    "    \n",
    "    # get test\n",
    "    prediction_test = model.predict(X_test)\n",
    "    test_accuracy_results[k] = accuracy_score(y_true = y_test[target],\n",
    "                                              y_pred = prediction_test)"
   ]
  },
  {
   "cell_type": "code",
   "execution_count": 22,
   "metadata": {},
   "outputs": [
    {
     "data": {
      "text/plain": [
       "Text(0, 0.5, 'Accuracy')"
      ]
     },
     "execution_count": 22,
     "metadata": {},
     "output_type": "execute_result"
    },
    {
     "data": {
      "image/png": "[encoded data removed]",
      "text/plain": [
       "<Figure size 640x480 with 1 Axes>"
      ]
     },
     "metadata": {},
     "output_type": "display_data"
    }
   ],
   "source": [
    "plt.plot(dev_results.keys(), dev_results.values(), marker='o', label =\"development-set\")\n",
    "\n",
    "\n",
    "plt.plot(test_accuracy_results.keys(), test_accuracy_results.values(), marker='o', label =\"test-set\")\n",
    "\n",
    "plt.legend()\n",
    "plt.title(\"Performance of the different models\")\n",
    "plt.xlabel(\"k-neighbours\")\n",
    "plt.ylabel(\"Accuracy\")"
   ]
  },
  {
   "cell_type": "markdown",
   "metadata": {},
   "source": [
    "# Training / Validation / Testing  dataset\n",
    "\n",
    "A very popular approach for model selection is to split our dataset in 3 different parts:\n",
    "\n",
    "1. The *training* set, to train our different model in the hypothesis space\n",
    "2. The *validation* set, to select the model with the best performance\n",
    "3. The *testing* data set to measure the performance our final model\n",
    "\n",
    "However, the performance of the final model is always limited by the different model class in our hypothesis space."
   ]
  },
  {
   "cell_type": "code",
   "execution_count": 59,
   "metadata": {},
   "outputs": [],
   "source": [
    "X_train, X_val, y_train, y_val = train_test_split(X_develop, y_develop, test_size=0.2, random_state=150)"
   ]
  },
  {
   "cell_type": "code",
   "execution_count": 24,
   "metadata": {},
   "outputs": [],
   "source": [
    "train_accuracy_results = {}\n",
    "val_accuracy_results = {}\n",
    "for k in different_k_settings:\n",
    "    model = KNeighborsClassifier(n_neighbors=k)\n",
    "    model.fit(X_train, y_train[target])\n",
    "    \n",
    "    # get the prediction of the model on validation set\n",
    "    prediction_train = model.predict(X_train)\n",
    "    train_accuracy_results[k] = accuracy_score(y_true = y_train[target],\n",
    "                                               y_pred = prediction_train)\n",
    "    \n",
    "    # get the prediction of the model on validation set\n",
    "    prediction_val = model.predict(X_val)\n",
    "    val_accuracy_results[k] = accuracy_score(y_true = y_val[target],\n",
    "                                             y_pred = prediction_val)"
   ]
  },
  {
   "cell_type": "code",
   "execution_count": 25,
   "metadata": {},
   "outputs": [
    {
     "data": {
      "text/plain": [
       "Text(0, 0.5, 'Accuracy')"
      ]
     },
     "execution_count": 25,
     "metadata": {},
     "output_type": "execute_result"
    },
    {
     "data": {
      "image/png": "[encoded data removed]",
      "text/plain": [
       "<Figure size 640x480 with 1 Axes>"
      ]
     },
     "metadata": {},
     "output_type": "display_data"
    }
   ],
   "source": [
    "plt.plot(train_accuracy_results.keys(), train_accuracy_results.values(), marker='o', label =\"train-set\")\n",
    "\n",
    "plt.plot(test_accuracy_results.keys(), test_accuracy_results.values(), marker='o', label =\"test-set\")\n",
    "\n",
    "plt.plot(val_accuracy_results.keys(), val_accuracy_results.values(), marker='o', label =\"val-set\")\n",
    "\n",
    "\n",
    "plt.legend()\n",
    "plt.title(\"Performance of the different models\")\n",
    "plt.xlabel(\"k-neighbours\")\n",
    "plt.ylabel(\"Accuracy\")"
   ]
  },
  {
   "cell_type": "markdown",
   "metadata": {},
   "source": [
    "## Resampling methods for model selection\n",
    "\n",
    "In practice partitioning the dataset into 3 different dataset requires a lot of records.\n",
    "When our dataset has limited amount of points a good alternative is to use resampling methods for model selection.\n",
    "\n",
    "Note that this method requires at least a training and test set.\n",
    "Then we will apply Resampling techniques to select models using only training set.\n",
    "After select the best model we will again use the test set to have an unbiased estimate about the model performance.\n",
    "\n",
    "The most common techniques are:\n",
    "\n",
    "1. **Cross validation** (most popular)\n",
    "2. **Bootstrapping**"
   ]
  },
  {
   "cell_type": "markdown",
   "metadata": {},
   "source": [
    "## A. Cross-Validation\n",
    "\n",
    "One of the most popular cross-validation techniques is k-fold cross-validation.\n",
    "\n",
    "In k-fold cross-validation, the training set is divided into k subsets, as illustrated below:\n",
    "\n",
    "![Cross-Validation](./figures/kfold_cross_validation.png)\n",
    "\n",
    "We then train a model k times using the following procedure:\n",
    "\n",
    "1. For each of the k iterations:\n",
    "   - Train the model using k-1 of the folds.\n",
    "   - Evaluate the model on the held-out fold.\n",
    "\n",
    "2. Average the performance metrics across the k evaluation sets.\n",
    "\n",
    "3. Finally, select the model with the best average error.\n",
    "\n",
    "4. Estimate the model's performance on the test set.\n",
    "\n",
    "K-fold cross-validation is a widely used method for assessing a model's performance and making model selection decisions. It helps in achieving a more reliable estimate of a model's performance by using multiple subsets of the training data.\n"
   ]
  },
  {
   "cell_type": "code",
   "execution_count": 26,
   "metadata": {},
   "outputs": [
    {
     "data": {
      "text/plain": [
       "(105, 4)"
      ]
     },
     "execution_count": 26,
     "metadata": {},
     "output_type": "execute_result"
    }
   ],
   "source": [
    "X_develop.shape"
   ]
  },
  {
   "cell_type": "code",
   "execution_count": 27,
   "metadata": {},
   "outputs": [],
   "source": [
    "from sklearn.model_selection import cross_val_score\n",
    "\n",
    "number_of_folder = 20\n",
    "cv_scores_list = []\n",
    "for k in  different_k_settings:\n",
    "    model = KNeighborsClassifier(n_neighbors=k)\n",
    "    cv_scores = cross_val_score(estimator=KNeighborsClassifier(n_neighbors=k),\n",
    "                                X=X_develop[features],\n",
    "                                y=y_develop[target],\n",
    "                                cv=number_of_folder)\n",
    "    cv_scores_list += [cv_scores]"
   ]
  },
  {
   "cell_type": "code",
   "execution_count": 28,
   "metadata": {},
   "outputs": [],
   "source": [
    "results = pd.DataFrame(cv_scores_list,\n",
    "                       index = different_k_settings,\n",
    "                       columns = [f\"Acc@{cv}_fold\" for cv in range(number_of_folder)])"
   ]
  },
  {
   "cell_type": "code",
   "execution_count": 29,
   "metadata": {},
   "outputs": [
    {
     "data": {
      "text/html": [
       "<div>\n",
       "<style scoped>\n",
       "    .dataframe tbody tr th:only-of-type {\n",
       "        vertical-align: middle;\n",
       "    }\n",
       "\n",
       "    .dataframe tbody tr th {\n",
       "        vertical-align: top;\n",
       "    }\n",
       "\n",
       "    .dataframe thead th {\n",
       "        text-align: right;\n",
       "    }\n",
       "</style>\n",
       "<table border=\"1\" class=\"dataframe\">\n",
       "  <thead>\n",
       "    <tr style=\"text-align: right;\">\n",
       "      <th></th>\n",
       "      <th>Acc@0_fold</th>\n",
       "      <th>Acc@1_fold</th>\n",
       "      <th>Acc@2_fold</th>\n",
       "      <th>Acc@3_fold</th>\n",
       "      <th>Acc@4_fold</th>\n",
       "      <th>Acc@5_fold</th>\n",
       "      <th>Acc@6_fold</th>\n",
       "      <th>Acc@7_fold</th>\n",
       "      <th>Acc@8_fold</th>\n",
       "      <th>Acc@9_fold</th>\n",
       "      <th>Acc@10_fold</th>\n",
       "      <th>Acc@11_fold</th>\n",
       "      <th>Acc@12_fold</th>\n",
       "      <th>Acc@13_fold</th>\n",
       "      <th>Acc@14_fold</th>\n",
       "      <th>Acc@15_fold</th>\n",
       "      <th>Acc@16_fold</th>\n",
       "      <th>Acc@17_fold</th>\n",
       "      <th>Acc@18_fold</th>\n",
       "      <th>Acc@19_fold</th>\n",
       "    </tr>\n",
       "  </thead>\n",
       "  <tbody>\n",
       "    <tr>\n",
       "      <th>1</th>\n",
       "      <td>1.000000</td>\n",
       "      <td>0.833333</td>\n",
       "      <td>1.000000</td>\n",
       "      <td>0.833333</td>\n",
       "      <td>0.833333</td>\n",
       "      <td>1.0</td>\n",
       "      <td>0.6</td>\n",
       "      <td>1.0</td>\n",
       "      <td>1.0</td>\n",
       "      <td>0.8</td>\n",
       "      <td>1.0</td>\n",
       "      <td>1.0</td>\n",
       "      <td>1.0</td>\n",
       "      <td>1.0</td>\n",
       "      <td>1.0</td>\n",
       "      <td>1.0</td>\n",
       "      <td>1.0</td>\n",
       "      <td>1.0</td>\n",
       "      <td>1.0</td>\n",
       "      <td>1.0</td>\n",
       "    </tr>\n",
       "    <tr>\n",
       "      <th>11</th>\n",
       "      <td>1.000000</td>\n",
       "      <td>0.833333</td>\n",
       "      <td>1.000000</td>\n",
       "      <td>0.833333</td>\n",
       "      <td>0.833333</td>\n",
       "      <td>1.0</td>\n",
       "      <td>1.0</td>\n",
       "      <td>1.0</td>\n",
       "      <td>1.0</td>\n",
       "      <td>1.0</td>\n",
       "      <td>1.0</td>\n",
       "      <td>1.0</td>\n",
       "      <td>1.0</td>\n",
       "      <td>1.0</td>\n",
       "      <td>1.0</td>\n",
       "      <td>1.0</td>\n",
       "      <td>1.0</td>\n",
       "      <td>1.0</td>\n",
       "      <td>1.0</td>\n",
       "      <td>1.0</td>\n",
       "    </tr>\n",
       "    <tr>\n",
       "      <th>21</th>\n",
       "      <td>1.000000</td>\n",
       "      <td>0.833333</td>\n",
       "      <td>1.000000</td>\n",
       "      <td>0.833333</td>\n",
       "      <td>0.833333</td>\n",
       "      <td>1.0</td>\n",
       "      <td>0.8</td>\n",
       "      <td>1.0</td>\n",
       "      <td>1.0</td>\n",
       "      <td>0.6</td>\n",
       "      <td>1.0</td>\n",
       "      <td>1.0</td>\n",
       "      <td>0.8</td>\n",
       "      <td>1.0</td>\n",
       "      <td>1.0</td>\n",
       "      <td>1.0</td>\n",
       "      <td>0.8</td>\n",
       "      <td>1.0</td>\n",
       "      <td>1.0</td>\n",
       "      <td>1.0</td>\n",
       "    </tr>\n",
       "    <tr>\n",
       "      <th>31</th>\n",
       "      <td>1.000000</td>\n",
       "      <td>0.833333</td>\n",
       "      <td>1.000000</td>\n",
       "      <td>0.833333</td>\n",
       "      <td>0.833333</td>\n",
       "      <td>0.8</td>\n",
       "      <td>0.8</td>\n",
       "      <td>1.0</td>\n",
       "      <td>1.0</td>\n",
       "      <td>0.8</td>\n",
       "      <td>1.0</td>\n",
       "      <td>0.8</td>\n",
       "      <td>0.8</td>\n",
       "      <td>0.8</td>\n",
       "      <td>1.0</td>\n",
       "      <td>1.0</td>\n",
       "      <td>0.6</td>\n",
       "      <td>1.0</td>\n",
       "      <td>1.0</td>\n",
       "      <td>0.8</td>\n",
       "    </tr>\n",
       "    <tr>\n",
       "      <th>41</th>\n",
       "      <td>1.000000</td>\n",
       "      <td>0.833333</td>\n",
       "      <td>1.000000</td>\n",
       "      <td>0.833333</td>\n",
       "      <td>0.666667</td>\n",
       "      <td>0.8</td>\n",
       "      <td>0.8</td>\n",
       "      <td>1.0</td>\n",
       "      <td>1.0</td>\n",
       "      <td>0.6</td>\n",
       "      <td>1.0</td>\n",
       "      <td>1.0</td>\n",
       "      <td>0.8</td>\n",
       "      <td>0.8</td>\n",
       "      <td>0.8</td>\n",
       "      <td>1.0</td>\n",
       "      <td>0.6</td>\n",
       "      <td>1.0</td>\n",
       "      <td>1.0</td>\n",
       "      <td>0.8</td>\n",
       "    </tr>\n",
       "    <tr>\n",
       "      <th>51</th>\n",
       "      <td>1.000000</td>\n",
       "      <td>0.833333</td>\n",
       "      <td>1.000000</td>\n",
       "      <td>0.833333</td>\n",
       "      <td>0.666667</td>\n",
       "      <td>0.8</td>\n",
       "      <td>0.8</td>\n",
       "      <td>1.0</td>\n",
       "      <td>1.0</td>\n",
       "      <td>0.8</td>\n",
       "      <td>1.0</td>\n",
       "      <td>1.0</td>\n",
       "      <td>0.8</td>\n",
       "      <td>0.8</td>\n",
       "      <td>0.8</td>\n",
       "      <td>1.0</td>\n",
       "      <td>0.4</td>\n",
       "      <td>1.0</td>\n",
       "      <td>1.0</td>\n",
       "      <td>0.8</td>\n",
       "    </tr>\n",
       "    <tr>\n",
       "      <th>61</th>\n",
       "      <td>0.833333</td>\n",
       "      <td>0.500000</td>\n",
       "      <td>0.666667</td>\n",
       "      <td>0.500000</td>\n",
       "      <td>0.500000</td>\n",
       "      <td>0.4</td>\n",
       "      <td>0.4</td>\n",
       "      <td>0.6</td>\n",
       "      <td>0.4</td>\n",
       "      <td>0.6</td>\n",
       "      <td>0.6</td>\n",
       "      <td>0.8</td>\n",
       "      <td>0.8</td>\n",
       "      <td>0.6</td>\n",
       "      <td>0.6</td>\n",
       "      <td>0.8</td>\n",
       "      <td>0.6</td>\n",
       "      <td>0.6</td>\n",
       "      <td>0.6</td>\n",
       "      <td>0.6</td>\n",
       "    </tr>\n",
       "  </tbody>\n",
       "</table>\n",
       "</div>"
      ],
      "text/plain": [
       "    Acc@0_fold  Acc@1_fold  Acc@2_fold  Acc@3_fold  Acc@4_fold  Acc@5_fold  \\\n",
       "1     1.000000    0.833333    1.000000    0.833333    0.833333         1.0   \n",
       "11    1.000000    0.833333    1.000000    0.833333    0.833333         1.0   \n",
       "21    1.000000    0.833333    1.000000    0.833333    0.833333         1.0   \n",
       "31    1.000000    0.833333    1.000000    0.833333    0.833333         0.8   \n",
       "41    1.000000    0.833333    1.000000    0.833333    0.666667         0.8   \n",
       "51    1.000000    0.833333    1.000000    0.833333    0.666667         0.8   \n",
       "61    0.833333    0.500000    0.666667    0.500000    0.500000         0.4   \n",
       "\n",
       "    Acc@6_fold  Acc@7_fold  Acc@8_fold  Acc@9_fold  Acc@10_fold  Acc@11_fold  \\\n",
       "1          0.6         1.0         1.0         0.8          1.0          1.0   \n",
       "11         1.0         1.0         1.0         1.0          1.0          1.0   \n",
       "21         0.8         1.0         1.0         0.6          1.0          1.0   \n",
       "31         0.8         1.0         1.0         0.8          1.0          0.8   \n",
       "41         0.8         1.0         1.0         0.6          1.0          1.0   \n",
       "51         0.8         1.0         1.0         0.8          1.0          1.0   \n",
       "61         0.4         0.6         0.4         0.6          0.6          0.8   \n",
       "\n",
       "    Acc@12_fold  Acc@13_fold  Acc@14_fold  Acc@15_fold  Acc@16_fold  \\\n",
       "1           1.0          1.0          1.0          1.0          1.0   \n",
       "11          1.0          1.0          1.0          1.0          1.0   \n",
       "21          0.8          1.0          1.0          1.0          0.8   \n",
       "31          0.8          0.8          1.0          1.0          0.6   \n",
       "41          0.8          0.8          0.8          1.0          0.6   \n",
       "51          0.8          0.8          0.8          1.0          0.4   \n",
       "61          0.8          0.6          0.6          0.8          0.6   \n",
       "\n",
       "    Acc@17_fold  Acc@18_fold  Acc@19_fold  \n",
       "1           1.0          1.0          1.0  \n",
       "11          1.0          1.0          1.0  \n",
       "21          1.0          1.0          1.0  \n",
       "31          1.0          1.0          0.8  \n",
       "41          1.0          1.0          0.8  \n",
       "51          1.0          1.0          0.8  \n",
       "61          0.6          0.6          0.6  "
      ]
     },
     "execution_count": 29,
     "metadata": {},
     "output_type": "execute_result"
    }
   ],
   "source": [
    "results"
   ]
  },
  {
   "cell_type": "code",
   "execution_count": 30,
   "metadata": {},
   "outputs": [],
   "source": [
    "average_fold_performance = np.mean(results,axis=1)"
   ]
  },
  {
   "cell_type": "code",
   "execution_count": 31,
   "metadata": {},
   "outputs": [
    {
     "data": {
      "text/plain": [
       "Text(0, 0.5, 'Accuracy')"
      ]
     },
     "execution_count": 31,
     "metadata": {},
     "output_type": "execute_result"
    },
    {
     "data": {
      "image/png": "[encoded data removed]",
      "text/plain": [
       "<Figure size 640x480 with 1 Axes>"
      ]
     },
     "metadata": {},
     "output_type": "display_data"
    }
   ],
   "source": [
    "plt.plot(average_fold_performance.index, average_fold_performance.values, marker='o', label = \"cv-set\")\n",
    "\n",
    "\n",
    "plt.plot(test_accuracy_results.keys(), test_accuracy_results.values(), marker='o', label =\"test-set\")\n",
    "\n",
    "plt.legend()\n",
    "plt.title(\"Performance of the different models\")\n",
    "plt.xlabel(\"k-neighbours\")\n",
    "plt.ylabel(\"Accuracy\")"
   ]
  },
  {
   "cell_type": "markdown",
   "metadata": {},
   "source": [
    "## B. Bootstrapping\n",
    "\n",
    "Bootstrapping is an effective method for model selection, especially when dealing with a limited amount of data. In general, bootstrapping is a technique that employs sampling with replacement to estimate a quantity. In our case, we want to estimate the test error of different models and, ultimately, select the model with the lowest estimate.\n",
    "\n",
    "Instead of using k distinct folds as in cross-validation, the bootstrap method generates training and validation sets by sampling from the dataset. Specifically, we sample with replacement to obtain *n* different data points, where \"n\" represents the original size of the dataset. Since we sample with replacement, our training set may contain duplicate points. The remaining dataset, which is not included in the training set, becomes the validation set, allowing us to calculate the error of our model. This process is repeated multiple times, and the results of validation errors are averaged to provide an estimate of our model's performance with the current hyperparameters.\n",
    "\n",
    "To perform hyperparameter tuning using the bootstrap method, we can repeat the same procedure for each hyperparameter setting and select the setting with the lowest average bootstrap error.\n",
    "\n",
    "![Bootstrap Model Selection](./figures/bootstrap.png)\n",
    "\n",
    "**Algorithm:**\n",
    "\n",
    "1. Sample *n* data points with replacement to create a training set (the bootstrap sample). \n",
    "   - This results in *n* different data points.\n",
    "   - On average, bootstraps include 66% unique records, as some may be duplicates.\n",
    "2. Use the remaining data points for the validation set.\n",
    "    - This leaves 34% of the data for validation.\n",
    "3. Train the model on the training set.\n",
    "\n",
    "4. Evaluate the model on the validation set.\n",
    "\n",
    "5. Repeat the process *B* times and calculate the average validation error scores.\n",
    "\n",
    "6. Repeat the above steps for every hyperparameter setting.\n",
    "\n",
    "7. Select the setting with the best performance."
   ]
  },
  {
   "cell_type": "markdown",
   "metadata": {},
   "source": [
    "# Assignment - Bootstrap\n",
    "\n",
    "In this assignment, you are asked to determine the best hyperparameter for the k-nearest neighbors (KNN) algorithm using the bootstrap method as described above.\n",
    "\n",
    "**Assignment Steps:**\n",
    "\n",
    "1. Create a function that generates B different bootstrap samples for both the training and validation sets, as described above.\n",
    "\n",
    "2. Calculate the average validation loss for each different K setting (hyperparameter for KNN).\n",
    "\n",
    "3. Select the model with the best average validation loss.\n",
    "\n",
    "4. Create your final model by training the selected model with the best hyperparameter setting using the entire dataset.\n",
    "\n",
    "5. Calculate the test error for your final model.\n"
   ]
  },
  {
   "cell_type": "code",
   "execution_count": 1,
   "metadata": {},
   "outputs": [],
   "source": [
    "different_k_settings = list(range(1, 84, 5))"
   ]
  },
  {
   "cell_type": "code",
   "execution_count": null,
   "metadata": {},
   "outputs": [],
   "source": [
    "# hints: to sample with replacement from a pandas dataframe you can use data.sample(replacement=True)\n",
    "# you https://pandas.pydata.org/docs/reference/api/pandas.DataFrame.sample.html"
   ]
  }
 ],
 "metadata": {
  "kernelspec": {
   "display_name": "Python 3",
   "language": "python",
   "name": "python3"
  },
  "language_info": {
   "codemirror_mode": {
    "name": "ipython",
    "version": 3
   },
   "file_extension": ".py",
   "mimetype": "text/x-python",
   "name": "python",
   "nbconvert_exporter": "python",
   "pygments_lexer": "ipython3",
   "version": "3.8.10"
  }
 },
 "nbformat": 4,
 "nbformat_minor": 1
}
